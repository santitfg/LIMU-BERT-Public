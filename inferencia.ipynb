{
 "cells": [
  {
   "cell_type": "code",
   "execution_count": 1,
   "metadata": {},
   "outputs": [],
   "source": [
    "import torch\n",
    "import torch.nn as nn\n",
    "import numpy as np\n",
    "import random\n",
    "\n",
    "def set_seed(seed):\n",
    "    torch.manual_seed(seed)\n",
    "    torch.cuda.manual_seed_all(seed)\n",
    "    np.random.seed(seed)\n",
    "    random.seed(seed)\n",
    "    torch.backends.cudnn.deterministic = True\n",
    "    torch.backends.cudnn.benchmark = False\n",
    "\n",
    "class LIMUBERTModel(nn.Module):\n",
    "    def __init__(self):\n",
    "        super(LIMUBERTModel, self).__init__()\n",
    "        self.embed = nn.Linear(6, 72)\n",
    "        encoder_layer = nn.TransformerEncoderLayer(d_model=72, nhead=8)\n",
    "        self.transformer = nn.TransformerEncoder(encoder_layer, num_layers=6)\n",
    "        self.fc = nn.Linear(72, 72)\n",
    "\n",
    "    def forward(self, x):\n",
    "        x = self.embed(x)\n",
    "        x = self.transformer(x)\n",
    "        x = self.fc(x)\n",
    "        return x\n",
    "\n",
    "    def get_embeddings(self, x):\n",
    "        x = self.embed(x)\n",
    "        return x\n",
    "def run_inference(model, data):\n",
    "    model.eval()\n",
    "\n",
    "    with torch.no_grad():\n",
    "        inputs = torch.tensor(data, dtype=torch.float32)\n",
    "        \n",
    "        # Realiza la inferencia\n",
    "        outputs = model(inputs)\n",
    "        \n",
    "        return outputs\n",
    "\n",
    "def extract_segment(data, start_index, seq_len=120):\n",
    "    \"\"\"\n",
    "    Extracts a 6-second segment from the data starting from start_index.\n",
    "    \n",
    "    Parameters:\n",
    "        data (np.array): The dataset array of shape (N, W, F).\n",
    "        start_index (int): The starting index for the segment.\n",
    "        seq_len (int): The sequence length (default is 120).\n",
    "    \n",
    "    Returns:\n",
    "        np.array: A segment of shape (1, seq_len, F).\n",
    "    \"\"\"\n",
    "    end_index = start_index + 1\n",
    "    segment = data[start_index:end_index, :seq_len, :]\n",
    "    return segment\n",
    "\n"
   ]
  },
  {
   "attachments": {},
   "cell_type": "markdown",
   "metadata": {},
   "source": [
    "---------------------\n"
   ]
  },
  {
   "cell_type": "code",
   "execution_count": 3,
   "metadata": {},
   "outputs": [
    {
     "name": "stdout",
     "output_type": "stream",
     "text": [
      "tensor([[[-0.2674,  0.1997, -1.3127,  ...,  0.4257, -0.0884, -0.1613],\n",
      "         [-0.2669,  0.1988, -1.3129,  ...,  0.4243, -0.0886, -0.1612],\n",
      "         [-0.2682,  0.2016, -1.3147,  ...,  0.4215, -0.0907, -0.1603],\n",
      "         ...,\n",
      "         [-0.2912,  0.2410, -1.3291,  ...,  0.3796, -0.1114, -0.1481],\n",
      "         [-0.2915,  0.2413, -1.3307,  ...,  0.3753, -0.1126, -0.1477],\n",
      "         [-0.2918,  0.2418, -1.3302,  ...,  0.3750, -0.1126, -0.1476]]])\n"
     ]
    }
   ],
   "source": [
    "#set_seed(42)\n",
    "\n",
    "\n",
    "# Load your data\n",
    "data_path = 'dataset/hhar/data_20_120.npy'\n",
    "data = np.load(data_path)\n",
    "\n",
    "# Cargar el modelo\n",
    "model = LIMUBERTModel()\n",
    "model_path = 'saved/pretrain_base_hhar_20_120/hhar.pt'\n",
    "state_dict = torch.load(model_path, map_location=torch.device('cpu'))\n",
    "\n",
    "model.load_state_dict(state_dict, strict=False)\n",
    "model.eval()\n",
    "\n",
    "# Extract a 6-second segment starting from index 0\n",
    "start_index = 0\n",
    "segment = extract_segment(data, start_index)\n",
    "\n",
    "## DUDO SI ESTOY PASANDOLE LOS DATOS CORRECTAMENTE\n",
    "predictions = run_inference(model, segment)\n",
    "\n",
    "## DESCONOZCO COMO INTERPRETAE ESTOS VALORES DEBERIA CORRER EL MODELO DE CLASIFICADOR?\n",
    "print(predictions)\n"
   ]
  },
  {
   "cell_type": "code",
   "execution_count": 41,
   "metadata": {},
   "outputs": [
    {
     "data": {
      "text/plain": [
       "720"
      ]
     },
     "execution_count": 41,
     "metadata": {},
     "output_type": "execute_result"
    }
   ],
   "source": [
    "\n",
    "segment = extract_segment(data, start_index,seq_len=120) # revisar funcion\n",
    "segment.size"
   ]
  },
  {
   "cell_type": "code",
   "execution_count": 39,
   "metadata": {},
   "outputs": [
    {
     "name": "stdout",
     "output_type": "stream",
     "text": [
      "torch.Size([1, 120, 72])\n",
      "tensor([[[-0.2674,  0.1997, -1.3127,  ...,  0.4257, -0.0884, -0.1613],\n",
      "         [-0.2669,  0.1988, -1.3129,  ...,  0.4243, -0.0886, -0.1612],\n",
      "         [-0.2682,  0.2016, -1.3147,  ...,  0.4215, -0.0907, -0.1603],\n",
      "         ...,\n",
      "         [-0.2912,  0.2410, -1.3291,  ...,  0.3796, -0.1114, -0.1481],\n",
      "         [-0.2915,  0.2413, -1.3307,  ...,  0.3753, -0.1126, -0.1477],\n",
      "         [-0.2918,  0.2418, -1.3302,  ...,  0.3750, -0.1126, -0.1476]]])\n"
     ]
    }
   ],
   "source": [
    "predictions = run_inference(model, segment)\n",
    "print(predictions.size())\n",
    "print(predictions)\n"
   ]
  }
 ],
 "metadata": {
  "kernelspec": {
   "display_name": "limu-py38",
   "language": "python",
   "name": "limu-py38"
  },
  "language_info": {
   "codemirror_mode": {
    "name": "ipython",
    "version": 3
   },
   "file_extension": ".py",
   "mimetype": "text/x-python",
   "name": "python",
   "nbconvert_exporter": "python",
   "pygments_lexer": "ipython3",
   "version": "3.8.19"
  },
  "orig_nbformat": 4
 },
 "nbformat": 4,
 "nbformat_minor": 2
}
