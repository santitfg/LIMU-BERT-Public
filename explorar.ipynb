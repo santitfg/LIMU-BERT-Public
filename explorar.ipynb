{
 "cells": [
  {
   "cell_type": "code",
   "execution_count": null,
   "metadata": {},
   "outputs": [],
   "source": [
    "!nvidia-smi"
   ]
  },
  {
   "cell_type": "code",
   "execution_count": 1,
   "metadata": {},
   "outputs": [],
   "source": [
    "%matplotlib inline"
   ]
  },
  {
   "cell_type": "code",
   "execution_count": null,
   "metadata": {},
   "outputs": [],
   "source": [
    "!pip install -r requirements.txt"
   ]
  },
  {
   "cell_type": "code",
   "execution_count": null,
   "metadata": {},
   "outputs": [],
   "source": [
    "\n",
    "!pip install tensorboard"
   ]
  },
  {
   "attachments": {},
   "cell_type": "markdown",
   "metadata": {},
   "source": [
    "# uso y pruebas"
   ]
  },
  {
   "cell_type": "code",
   "execution_count": 2,
   "metadata": {},
   "outputs": [
    {
     "name": "stdout",
     "output_type": "stream",
     "text": [
      "usage: classifier.py [-h] [-g GPU] [-f MODEL_FILE] [-t TRAIN_CFG]\n",
      "                     [-a MASK_CFG] [-l LABEL_INDEX] [-s SAVE_MODEL]\n",
      "                     model_version {hhar,motion,uci,shoaib} {10_100,20_120}\n",
      "\n",
      "PyTorch LIMU-BERT Model\n",
      "\n",
      "positional arguments:\n",
      "  model_version         Model config\n",
      "  {hhar,motion,uci,shoaib}\n",
      "                        Dataset name\n",
      "  {10_100,20_120}       Dataset version\n",
      "\n",
      "optional arguments:\n",
      "  -h, --help            show this help message and exit\n",
      "  -g GPU, --gpu GPU     Set specific GPU\n",
      "  -f MODEL_FILE, --model_file MODEL_FILE\n",
      "                        Pretrain model file\n",
      "  -t TRAIN_CFG, --train_cfg TRAIN_CFG\n",
      "                        Training config json file path\n",
      "  -a MASK_CFG, --mask_cfg MASK_CFG\n",
      "                        Mask strategy json file path\n",
      "  -l LABEL_INDEX, --label_index LABEL_INDEX\n",
      "                        Label Index\n",
      "  -s SAVE_MODEL, --save_model SAVE_MODEL\n",
      "                        The saved model name\n",
      "usage: classifier.py [-h] [-g GPU] [-f MODEL_FILE] [-t TRAIN_CFG]\n",
      "                     [-a MASK_CFG] [-l LABEL_INDEX] [-s SAVE_MODEL]\n",
      "                     model_version {hhar,motion,uci,shoaib} {10_100,20_120}\n",
      "\n",
      "PyTorch LIMU-BERT Model\n",
      "\n",
      "positional arguments:\n",
      "  model_version         Model config\n",
      "  {hhar,motion,uci,shoaib}\n",
      "                        Dataset name\n",
      "  {10_100,20_120}       Dataset version\n",
      "\n",
      "optional arguments:\n",
      "  -h, --help            show this help message and exit\n",
      "  -g GPU, --gpu GPU     Set specific GPU\n",
      "  -f MODEL_FILE, --model_file MODEL_FILE\n",
      "                        Pretrain model file\n",
      "  -t TRAIN_CFG, --train_cfg TRAIN_CFG\n",
      "                        Training config json file path\n",
      "  -a MASK_CFG, --mask_cfg MASK_CFG\n",
      "                        Mask strategy json file path\n",
      "  -l LABEL_INDEX, --label_index LABEL_INDEX\n",
      "                        Label Index\n",
      "  -s SAVE_MODEL, --save_model SAVE_MODEL\n",
      "                        The saved model name\n"
     ]
    }
   ],
   "source": [
    "!python classifier.py --help\n",
    "# !python classifier_bert.py --help\n",
    "# !python classifier.py --help"
   ]
  },
  {
   "cell_type": "code",
   "execution_count": null,
   "metadata": {},
   "outputs": [],
   "source": [
    "!python pretrain.py v1 uci 20_120 -s limu_v1 "
   ]
  },
  {
   "cell_type": "code",
   "execution_count": null,
   "metadata": {},
   "outputs": [],
   "source": [
    "!python embedding.py v1 uci 20_120 -f limu_v1\n"
   ]
  },
  {
   "cell_type": "code",
   "execution_count": null,
   "metadata": {},
   "outputs": [],
   "source": [
    "!python embedding.py \"BERT\" \"hhar\" \"20_120\" -g 0\n",
    "\n",
    "# utils.py linea 411 msj de erro"
   ]
  }
 ],
 "metadata": {
  "kernelspec": {
   "display_name": "limu-py38",
   "language": "python",
   "name": "limu-py38"
  },
  "language_info": {
   "codemirror_mode": {
    "name": "ipython",
    "version": 3
   },
   "file_extension": ".py",
   "mimetype": "text/x-python",
   "name": "python",
   "nbconvert_exporter": "python",
   "pygments_lexer": "ipython3",
   "version": "3.8.19"
  }
 },
 "nbformat": 4,
 "nbformat_minor": 2
}
