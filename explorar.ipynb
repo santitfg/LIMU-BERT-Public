{
 "cells": [
  {
   "cell_type": "code",
   "execution_count": null,
   "metadata": {},
   "outputs": [],
   "source": [
    "!nvidia-smi"
   ]
  },
  {
   "cell_type": "code",
   "execution_count": 9,
   "metadata": {},
   "outputs": [],
   "source": [
    "%matplotlib inline\n"
   ]
  },
  {
   "attachments": {},
   "cell_type": "markdown",
   "metadata": {},
   "source": [
    "# uso y pruebas"
   ]
  },
  {
   "cell_type": "code",
   "execution_count": 10,
   "metadata": {},
   "outputs": [
    {
     "name": "stdout",
     "output_type": "stream",
     "text": [
      "Traceback (most recent call last):\n",
      "  File \"classifier.py\", line 20, in <module>\n",
      "    from embedding import load_embedding_label\n",
      "  File \"/home/baruj/Documentos/proyectos/LIMU-BERT-Public/embedding.py\", line 17, in <module>\n",
      "    from plot import plot_reconstruct_sensor, plot_embedding\n",
      "  File \"/home/baruj/Documentos/proyectos/LIMU-BERT-Public/plot.py\", line 11, in <module>\n",
      "    import seaborn as sn\n",
      "  File \"/home/baruj/miniconda3/envs/limu-py38/lib/python3.8/site-packages/seaborn/__init__.py\", line 6, in <module>\n",
      "    from .rcmod import *\n",
      "  File \"/home/baruj/miniconda3/envs/limu-py38/lib/python3.8/site-packages/seaborn/rcmod.py\", line 7, in <module>\n",
      "    from . import palettes, _orig_rc_params\n",
      "  File \"/home/baruj/miniconda3/envs/limu-py38/lib/python3.8/site-packages/seaborn/palettes.py\", line 9, in <module>\n",
      "    from .utils import desaturate, set_hls_values, get_color_cycle\n",
      "  File \"/home/baruj/miniconda3/envs/limu-py38/lib/python3.8/site-packages/seaborn/utils.py\", line 10, in <module>\n",
      "    import matplotlib.pyplot as plt\n",
      "  File \"/home/baruj/miniconda3/envs/limu-py38/lib/python3.8/site-packages/matplotlib/pyplot.py\", line 2282, in <module>\n",
      "    switch_backend(rcParams[\"backend\"])\n",
      "  File \"/home/baruj/miniconda3/envs/limu-py38/lib/python3.8/site-packages/matplotlib/pyplot.py\", line 221, in switch_backend\n",
      "    backend_mod = importlib.import_module(backend_name)\n",
      "  File \"/home/baruj/miniconda3/envs/limu-py38/lib/python3.8/importlib/__init__.py\", line 127, in import_module\n",
      "    return _bootstrap._gcd_import(name[level:], package, level)\n",
      "ModuleNotFoundError: No module named 'matplotlib_inline'\n"
     ]
    }
   ],
   "source": [
    "!python classifier.py --help\n",
    "# !python classifier_bert.py --help\n",
    "# !python classifier.py --help"
   ]
  },
  {
   "cell_type": "code",
   "execution_count": 11,
   "metadata": {},
   "outputs": [
    {
     "name": "stdout",
     "output_type": "stream",
     "text": [
      "Traceback (most recent call last):\n",
      "  File \"embedding.py\", line 17, in <module>\n",
      "    from plot import plot_reconstruct_sensor, plot_embedding\n",
      "  File \"/home/baruj/Documentos/proyectos/LIMU-BERT-Public/plot.py\", line 11, in <module>\n",
      "    import seaborn as sn\n",
      "  File \"/home/baruj/miniconda3/envs/limu-py38/lib/python3.8/site-packages/seaborn/__init__.py\", line 6, in <module>\n",
      "    from .rcmod import *\n",
      "  File \"/home/baruj/miniconda3/envs/limu-py38/lib/python3.8/site-packages/seaborn/rcmod.py\", line 7, in <module>\n",
      "    from . import palettes, _orig_rc_params\n",
      "  File \"/home/baruj/miniconda3/envs/limu-py38/lib/python3.8/site-packages/seaborn/palettes.py\", line 9, in <module>\n",
      "    from .utils import desaturate, set_hls_values, get_color_cycle\n",
      "  File \"/home/baruj/miniconda3/envs/limu-py38/lib/python3.8/site-packages/seaborn/utils.py\", line 10, in <module>\n",
      "    import matplotlib.pyplot as plt\n",
      "  File \"/home/baruj/miniconda3/envs/limu-py38/lib/python3.8/site-packages/matplotlib/pyplot.py\", line 2282, in <module>\n",
      "    switch_backend(rcParams[\"backend\"])\n",
      "  File \"/home/baruj/miniconda3/envs/limu-py38/lib/python3.8/site-packages/matplotlib/pyplot.py\", line 221, in switch_backend\n",
      "    backend_mod = importlib.import_module(backend_name)\n",
      "  File \"/home/baruj/miniconda3/envs/limu-py38/lib/python3.8/importlib/__init__.py\", line 127, in import_module\n",
      "    return _bootstrap._gcd_import(name[level:], package, level)\n",
      "ModuleNotFoundError: No module named 'matplotlib_inline'\n"
     ]
    }
   ],
   "source": [
    "!python embedding.py v1 uci 20_120 -f uci"
   ]
  },
  {
   "cell_type": "code",
   "execution_count": null,
   "metadata": {},
   "outputs": [],
   "source": [
    "!pip install -r requirements.txt"
   ]
  },
  {
   "cell_type": "code",
   "execution_count": null,
   "metadata": {},
   "outputs": [],
   "source": [
    "!pip install tensorflow\n",
    "!pip install tensorboard"
   ]
  },
  {
   "cell_type": "code",
   "execution_count": null,
   "metadata": {},
   "outputs": [],
   "source": [
    "!python pretrain.py v1 uci 20_120 -s limu_v1 "
   ]
  },
  {
   "cell_type": "code",
   "execution_count": null,
   "metadata": {},
   "outputs": [],
   "source": [
    "!python embedding.py v1 uci 20_120 -f limu_v1\n"
   ]
  },
  {
   "cell_type": "code",
   "execution_count": null,
   "metadata": {},
   "outputs": [],
   "source": [
    "!python embedding.py \"BERT\" \"hhar\" \"20_120\" -g 0\n",
    "\n",
    "# utils.py linea 411 msj de erro"
   ]
  },
  {
   "attachments": {},
   "cell_type": "markdown",
   "metadata": {},
   "source": [
    "# carga desede codigo gpt"
   ]
  },
  {
   "cell_type": "code",
   "execution_count": null,
   "metadata": {},
   "outputs": [],
   "source": [
    "import numpy as np \n",
    "import matplotlib.pyplot as plt \n",
    "import pandas as pd\n",
    "import os\n",
    "import json\n",
    "import plot \n",
    "import utils \n",
    "import torch\n",
    "import torch.nn as nn"
   ]
  },
  {
   "cell_type": "code",
   "execution_count": null,
   "metadata": {},
   "outputs": [],
   "source": [
    "class LIMUBERTModel(nn.Module):\n",
    "    def __init__(self):\n",
    "        super(LIMUBERTModel, self).__init__()\n",
    "        self.embed = nn.Linear(6, 72)  # Adjusted to match the saved model\n",
    "        self.transformer = nn.Transformer(d_model=72, nhead=8, num_encoder_layers=6)  # Adjusted to match the saved model\n",
    "        self.fc = nn.Linear(72, 72)  # Adjusted to match the saved model\n",
    "\n",
    "    def forward(self, x):\n",
    "        x = self.embed(x)\n",
    "        x = self.transformer(x)\n",
    "        x = self.fc(x)\n",
    "        return x\n",
    "\n",
    "    def get_embeddings(self, x):\n",
    "        x = self.embed(x)\n",
    "        return x\n",
    "\n",
    "# Instantiate the model\n",
    "model = LIMUBERTModel()\n",
    "\n",
    "# Path to your model file\n",
    "model_path = 'saved/pretrain_base_hhar_20_120/hhar.pt'\n",
    "\n",
    "# Load the state dictionary\n",
    "state_dict = torch.load(model_path)\n",
    "\n",
    "# Load the state dict into the model\n",
    "model.load_state_dict(state_dict, strict=False)\n",
    "\n",
    "# Set model to evaluation mode\n",
    "model.eval()\n"
   ]
  },
  {
   "cell_type": "code",
   "execution_count": null,
   "metadata": {},
   "outputs": [],
   "source": [
    "# Load dataset\n",
    "data_path = \"dataset/hhar/data_20_120.npy\"\n",
    "labels_path = 'dataset/hhar/label_20_120.npy'\n",
    "\n",
    "data = np.load(data_path)\n",
    "labels = np.load(labels_path)\n",
    "\n",
    "# Flatten the data\n",
    "data_flat = data.reshape(data.shape[0], -1)\n",
    "\n",
    "\n",
    "\n",
    "# Extract embeddings from the flattened data\n",
    "embeddings = get_embeddings(model, data_flat)\n",
    "\n",
    "# Ensure labels are correctly shaped\n",
    "if len(labels.shape) > 1 and labels.shape[1] > 1:\n",
    "    labels = labels[:, 0]\n",
    "\n",
    "# Function to visualize embeddings\n",
    "def visualize_embeddings(embeddings, labels):\n",
    "    tsne = TSNE(n_components=2, random_state=42)\n",
    "    reduced_embeddings = tsne.fit_transform(embeddings)\n",
    "    \n",
    "    plt.figure(figsize=(10, 10))\n",
    "    scatter = plt.scatter(reduced_embeddings[:, 0], reduced_embeddings[:, 1], c=labels, cmap='viridis', alpha=0.5)\n",
    "    plt.colorbar(scatter)\n",
    "    plt.title(\"t-SNE visualization of embeddings\")\n",
    "    plt.xlabel(\"t-SNE component 1\")\n",
    "    plt.ylabel(\"t-SNE component 2\")\n",
    "    plt.show()\n",
    "\n",
    "# Inline plotting for Jupyter Notebook\n",
    "%matplotlib inline\n",
    "\n",
    "# Visualize the embeddings\n",
    "visualize_embeddings(state_dict, labels)\n"
   ]
  }
 ],
 "metadata": {
  "kernelspec": {
   "display_name": "limu-py38",
   "language": "python",
   "name": "limu-py38"
  },
  "language_info": {
   "codemirror_mode": {
    "name": "ipython",
    "version": 3
   },
   "file_extension": ".py",
   "mimetype": "text/x-python",
   "name": "python",
   "nbconvert_exporter": "python",
   "pygments_lexer": "ipython3",
   "version": "3.8.19"
  }
 },
 "nbformat": 4,
 "nbformat_minor": 2
}
